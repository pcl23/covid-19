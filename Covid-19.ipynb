{
 "cells": [
  {
   "cell_type": "markdown",
   "metadata": {},
   "source": [
    "# Imports"
   ]
  },
  {
   "cell_type": "code",
   "execution_count": 2,
   "metadata": {
    "ExecuteTime": {
     "end_time": "2020-03-30T09:56:21.793962Z",
     "start_time": "2020-03-30T09:56:18.071213Z"
    }
   },
   "outputs": [],
   "source": [
    "import pandas as pd # básico para tratar con conjuntos de datos\n",
    "import requests # realizar peticiones a las URLs\n",
    "import tabula # trabajar los PDFS\n",
    "import datetime # fechas\n",
    "from datetime import timedelta"
   ]
  },
  {
   "cell_type": "code",
   "execution_count": 3,
   "metadata": {
    "ExecuteTime": {
     "end_time": "2020-03-30T09:56:21.803964Z",
     "start_time": "2020-03-30T09:56:21.800963Z"
    }
   },
   "outputs": [],
   "source": [
    "path = r\"C:\\Users\\pcorral\\Blog_Covid19\\\""
   ]
  },
  {
   "cell_type": "markdown",
   "metadata": {},
   "source": [
    "# Rango"
   ]
  },
  {
   "cell_type": "code",
   "execution_count": null,
   "metadata": {},
   "outputs": [],
   "source": [
    "date_today = datetime.datetime.now()\n",
    "var_date = datetime.datetime(2020, 3, 8) # fecha inicial donde empiezan los PDFs\n",
    "days_to_loop = (date_today - var_date).days\n",
    "start_loop = 39 # PDF inicial donde empezó a contabilizarse en el origen. Esto no cambiará\n",
    "end_loop = start_loop + days_to_loop\n",
    "\n",
    "rango_a_iterar = range(start_loop, end_loop)"
   ]
  },
  {
   "cell_type": "markdown",
   "metadata": {},
   "source": [
    "# Descargar PDFs"
   ]
  },
  {
   "cell_type": "code",
   "execution_count": 4,
   "metadata": {
    "ExecuteTime": {
     "end_time": "2020-03-30T09:56:27.893771Z",
     "start_time": "2020-03-30T09:56:21.812962Z"
    }
   },
   "outputs": [
    {
     "name": "stderr",
     "output_type": "stream",
     "text": [
      "C:\\Users\\pcorral\\AppData\\Local\\Programs\\Python\\Python37\\lib\\site-packages\\urllib3\\connectionpool.py:851: InsecureRequestWarning: Unverified HTTPS request is being made. Adding certificate verification is strongly advised. See: https://urllib3.readthedocs.io/en/latest/advanced-usage.html#ssl-warnings\n",
      "  InsecureRequestWarning)\n",
      "C:\\Users\\pcorral\\AppData\\Local\\Programs\\Python\\Python37\\lib\\site-packages\\urllib3\\connectionpool.py:851: InsecureRequestWarning: Unverified HTTPS request is being made. Adding certificate verification is strongly advised. See: https://urllib3.readthedocs.io/en/latest/advanced-usage.html#ssl-warnings\n",
      "  InsecureRequestWarning)\n",
      "C:\\Users\\pcorral\\AppData\\Local\\Programs\\Python\\Python37\\lib\\site-packages\\urllib3\\connectionpool.py:851: InsecureRequestWarning: Unverified HTTPS request is being made. Adding certificate verification is strongly advised. See: https://urllib3.readthedocs.io/en/latest/advanced-usage.html#ssl-warnings\n",
      "  InsecureRequestWarning)\n",
      "C:\\Users\\pcorral\\AppData\\Local\\Programs\\Python\\Python37\\lib\\site-packages\\urllib3\\connectionpool.py:851: InsecureRequestWarning: Unverified HTTPS request is being made. Adding certificate verification is strongly advised. See: https://urllib3.readthedocs.io/en/latest/advanced-usage.html#ssl-warnings\n",
      "  InsecureRequestWarning)\n",
      "C:\\Users\\pcorral\\AppData\\Local\\Programs\\Python\\Python37\\lib\\site-packages\\urllib3\\connectionpool.py:851: InsecureRequestWarning: Unverified HTTPS request is being made. Adding certificate verification is strongly advised. See: https://urllib3.readthedocs.io/en/latest/advanced-usage.html#ssl-warnings\n",
      "  InsecureRequestWarning)\n",
      "C:\\Users\\pcorral\\AppData\\Local\\Programs\\Python\\Python37\\lib\\site-packages\\urllib3\\connectionpool.py:851: InsecureRequestWarning: Unverified HTTPS request is being made. Adding certificate verification is strongly advised. See: https://urllib3.readthedocs.io/en/latest/advanced-usage.html#ssl-warnings\n",
      "  InsecureRequestWarning)\n",
      "C:\\Users\\pcorral\\AppData\\Local\\Programs\\Python\\Python37\\lib\\site-packages\\urllib3\\connectionpool.py:851: InsecureRequestWarning: Unverified HTTPS request is being made. Adding certificate verification is strongly advised. See: https://urllib3.readthedocs.io/en/latest/advanced-usage.html#ssl-warnings\n",
      "  InsecureRequestWarning)\n",
      "C:\\Users\\pcorral\\AppData\\Local\\Programs\\Python\\Python37\\lib\\site-packages\\urllib3\\connectionpool.py:851: InsecureRequestWarning: Unverified HTTPS request is being made. Adding certificate verification is strongly advised. See: https://urllib3.readthedocs.io/en/latest/advanced-usage.html#ssl-warnings\n",
      "  InsecureRequestWarning)\n",
      "C:\\Users\\pcorral\\AppData\\Local\\Programs\\Python\\Python37\\lib\\site-packages\\urllib3\\connectionpool.py:851: InsecureRequestWarning: Unverified HTTPS request is being made. Adding certificate verification is strongly advised. See: https://urllib3.readthedocs.io/en/latest/advanced-usage.html#ssl-warnings\n",
      "  InsecureRequestWarning)\n",
      "C:\\Users\\pcorral\\AppData\\Local\\Programs\\Python\\Python37\\lib\\site-packages\\urllib3\\connectionpool.py:851: InsecureRequestWarning: Unverified HTTPS request is being made. Adding certificate verification is strongly advised. See: https://urllib3.readthedocs.io/en/latest/advanced-usage.html#ssl-warnings\n",
      "  InsecureRequestWarning)\n",
      "C:\\Users\\pcorral\\AppData\\Local\\Programs\\Python\\Python37\\lib\\site-packages\\urllib3\\connectionpool.py:851: InsecureRequestWarning: Unverified HTTPS request is being made. Adding certificate verification is strongly advised. See: https://urllib3.readthedocs.io/en/latest/advanced-usage.html#ssl-warnings\n",
      "  InsecureRequestWarning)\n",
      "C:\\Users\\pcorral\\AppData\\Local\\Programs\\Python\\Python37\\lib\\site-packages\\urllib3\\connectionpool.py:851: InsecureRequestWarning: Unverified HTTPS request is being made. Adding certificate verification is strongly advised. See: https://urllib3.readthedocs.io/en/latest/advanced-usage.html#ssl-warnings\n",
      "  InsecureRequestWarning)\n",
      "C:\\Users\\pcorral\\AppData\\Local\\Programs\\Python\\Python37\\lib\\site-packages\\urllib3\\connectionpool.py:851: InsecureRequestWarning: Unverified HTTPS request is being made. Adding certificate verification is strongly advised. See: https://urllib3.readthedocs.io/en/latest/advanced-usage.html#ssl-warnings\n",
      "  InsecureRequestWarning)\n",
      "C:\\Users\\pcorral\\AppData\\Local\\Programs\\Python\\Python37\\lib\\site-packages\\urllib3\\connectionpool.py:851: InsecureRequestWarning: Unverified HTTPS request is being made. Adding certificate verification is strongly advised. See: https://urllib3.readthedocs.io/en/latest/advanced-usage.html#ssl-warnings\n",
      "  InsecureRequestWarning)\n"
     ]
    }
   ],
   "source": [
    "# Bucle para guardar todos los PDFs en local\n",
    "for w in rango_a_iterar: # iteramos sobre todos los PDFs\n",
    "    name = f\"covid_{str(w)}.pdf\"\n",
    "    # realizamos la petición a la URL para poder guardar el PDF\n",
    "    doc = requests.get(f\"https://www.mscbs.gob.es/profesionales/saludPublica/ccayes/alertasActual/nCov-China/documentos/Actualizacion_{str(w)}_COVID-19.pdf\", verify=False)\n",
    "    with open(path + name, 'wb') as f: \n",
    "        f.write(doc.content) # una vez leído el PDF, lo almacenamos en local"
   ]
  },
  {
   "cell_type": "markdown",
   "metadata": {},
   "source": [
    "# Unificar conjunto de datos "
   ]
  },
  {
   "cell_type": "code",
   "execution_count": 22,
   "metadata": {
    "ExecuteTime": {
     "end_time": "2020-03-30T10:25:10.345984Z",
     "start_time": "2020-03-30T10:24:23.713587Z"
    }
   },
   "outputs": [
    {
     "name": "stdout",
     "output_type": "stream",
     "text": [
      "{'Nuevos', 'Hospitalizados', 'Curados'}\n",
      "i:39, d:2020-03-10 00:00:00, c: Index(['CCAA', 'TOTAL conf.', 'IA (14 d.)', 'UCI', 'Fallecidos', 'Nuevos',\n",
      "       'Hospitalizados', 'Curados', 'Fecha'],\n",
      "      dtype='object')\n",
      "{'Nuevos', 'Hospitalizados', 'Curados'}\n",
      "i:40, d:2020-03-11 00:00:00, c: Index(['CCAA', 'TOTAL conf.', 'IA (14 d.)', 'UCI', 'Fallecidos', 'Nuevos',\n",
      "       'Hospitalizados', 'Curados', 'Fecha'],\n",
      "      dtype='object')\n",
      "{'Nuevos', 'Hospitalizados', 'Curados'}\n",
      "i:41, d:2020-03-12 00:00:00, c: Index(['CCAA', 'TOTAL conf.', 'IA (14 d.)', 'UCI', 'Fallecidos', 'Nuevos',\n",
      "       'Hospitalizados', 'Curados', 'Fecha'],\n",
      "      dtype='object')\n",
      "{'Nuevos', 'Hospitalizados', 'Curados'}\n",
      "i:42, d:2020-03-13 00:00:00, c: Index(['CCAA', 'TOTAL conf.', 'IA (14 d.)', 'UCI', 'Fallecidos', 'Nuevos',\n",
      "       'Hospitalizados', 'Curados', 'Fecha'],\n",
      "      dtype='object')\n",
      "{'Nuevos', 'Hospitalizados', 'Curados'}\n",
      "i:43, d:2020-03-14 00:00:00, c: Index(['CCAA', 'TOTAL conf.', 'IA (14 d.)', 'UCI', 'Fallecidos', 'Nuevos',\n",
      "       'Hospitalizados', 'Curados', 'Fecha'],\n",
      "      dtype='object')\n"
     ]
    },
    {
     "name": "stderr",
     "output_type": "stream",
     "text": [
      "Error from tabula-java:\n",
      "Error: Error: End-of-File, expected line\n",
      "\n",
      "\n",
      "Error from tabula-java:\n",
      "Error: Error: End-of-File, expected line\n",
      "\n",
      "\n"
     ]
    },
    {
     "name": "stdout",
     "output_type": "stream",
     "text": [
      "{'Nuevos', 'Hospitalizados', 'Curados'}\n",
      "i:46, d:2020-03-17 00:00:00, c: Index(['CCAA', 'TOTAL conf.', 'IA (14 d.)', 'UCI', 'Fallecidos', 'Nuevos',\n",
      "       'Hospitalizados', 'Curados', 'Fecha'],\n",
      "      dtype='object')\n",
      "{'Nuevos', 'Hospitalizados', 'Curados'}\n",
      "i:47, d:2020-03-18 00:00:00, c: Index(['CCAA', 'TOTAL conf.', 'IA (14 d.)', 'UCI', 'Fallecidos', 'Nuevos',\n",
      "       'Hospitalizados', 'Curados', 'Fecha'],\n",
      "      dtype='object')\n",
      "{'Nuevos', 'Hospitalizados', 'Curados'}\n",
      "i:48, d:2020-03-19 00:00:00, c: Index(['CCAA', 'TOTAL conf.', 'IA (14 d.)', 'UCI', 'Fallecidos', 'Nuevos',\n",
      "       'Hospitalizados', 'Curados', 'Fecha'],\n",
      "      dtype='object')\n",
      "{'Nuevos', 'Hospitalizados', 'Curados'}\n",
      "i:49, d:2020-03-20 00:00:00, c: Index(['CCAA', 'TOTAL conf.', 'IA (14 d.)', 'UCI', 'Fallecidos', 'Nuevos',\n",
      "       'Hospitalizados', 'Curados', 'Fecha'],\n",
      "      dtype='object')\n",
      "{'Nuevos', 'Hospitalizados', 'Curados'}\n",
      "i:50, d:2020-03-21 00:00:00, c: Index(['CCAA', 'TOTAL conf.', 'IA (14 d.)', 'UCI', 'Fallecidos', 'Nuevos',\n",
      "       'Hospitalizados', 'Curados', 'Fecha'],\n",
      "      dtype='object')\n",
      "i:51, d:2020-03-22 00:00:00, c: Index(['CCAA', 'TOTAL conf.', 'IA (14 d.)', 'Hospitalizados', 'UCI',\n",
      "       'Fallecidos', 'Nuevos', 'Curados', 'Fecha'],\n",
      "      dtype='object')\n",
      "i:52, d:2020-03-23 00:00:00, c: Index(['CCAA', 'TOTAL conf.', 'IA (14 d.)', 'Hospitalizados', 'UCI',\n",
      "       'Fallecidos', 'Nuevos', 'Curados', 'Fecha'],\n",
      "      dtype='object')\n",
      "i:53, d:2020-03-24 00:00:00, c: Index(['CCAA', 'TOTAL conf.', 'IA (14 d.)', 'Hospitalizados', 'UCI',\n",
      "       'Fallecidos', 'Curados', 'Nuevos', 'Fecha'],\n",
      "      dtype='object')\n",
      "i:54, d:2020-03-25 00:00:00, c: Index(['CCAA', 'TOTAL conf.', 'IA (14 d.)', 'Hospitalizados', 'UCI',\n",
      "       'Fallecidos', 'Curados', 'Nuevos', 'Fecha'],\n",
      "      dtype='object')\n",
      "i:55, d:2020-03-26 00:00:00, c: Index(['CCAA', 'TOTAL conf.', 'IA (14 d.)', 'Hospitalizados', 'UCI',\n",
      "       'Fallecidos', 'Curados', 'Nuevos', 'Fecha'],\n",
      "      dtype='object')\n",
      "i:56, d:2020-03-27 00:00:00, c: Index(['CCAA', 'TOTAL conf.', 'IA (14 d.)', 'Hospitalizados', 'UCI',\n",
      "       'Fallecidos', 'Curados', 'Nuevos', 'Fecha'],\n",
      "      dtype='object')\n",
      "i:57, d:2020-03-28 00:00:00, c: Index(['CCAA', 'TOTAL conf.', 'IA (14 d.)', 'Hospitalizados', 'UCI',\n",
      "       'Fallecidos', 'Curados', 'Nuevos', 'Fecha'],\n",
      "      dtype='object')\n",
      "i:58, d:2020-03-29 00:00:00, c: Index(['CCAA', 'TOTAL conf.', 'IA (14 d.)', 'Hospitalizados', 'UCI',\n",
      "       'Fallecidos', 'Curados', 'Nuevos', 'Fecha'],\n",
      "      dtype='object')\n",
      "i:59, d:2020-03-30 00:00:00, c: Index(['CCAA', 'TOTAL conf.', 'IA (14 d.)', 'Hospitalizados', 'UCI',\n",
      "       'Fallecidos', 'Curados', 'Nuevos', 'Fecha'],\n",
      "      dtype='object')\n",
      "i:60, d:2020-03-31 00:00:00, c: Index(['CCAA', 'TOTAL conf.', 'IA (14 d.)', 'Hospitalizados', 'UCI',\n",
      "       'Fallecidos', 'Curados', 'Nuevos', 'Fecha'],\n",
      "      dtype='object')\n"
     ]
    }
   ],
   "source": [
    "# FORMATOS\n",
    "format_1 = ['CCAA', 'Total casos', 'IA (casos/100.000 habitantes)', 'Ingreso en UCI', 'Fallecidos']\n",
    "format_1_reformat = ['CCAA', 'TOTAL conf.', 'IA (14 d.)', 'UCI','Fallecidos']\n",
    "\n",
    "format_2 = ['CCAA', 'Total casos', 'IA Total*', 'Ingreso en UCI', 'Fallecidos']\n",
    "\n",
    "format_3 = ['CCAA', 'Total casos', 'IA últimos 14 días', 'Ingreso en UCI','Fallecidos']\n",
    "\n",
    "format_4 = ['Unnamed: 0', 'Unnamed: 1', 'Unnamed: 2', 'Unnamed: 3', 'Unnamed: 4', 'Unnamed: 5', 'Nuevos']\n",
    "format_4_reformat = ['CCAA', 'TOTAL conf.', 'IA (14 d.)', 'Hospitalizados', 'UCI', 'Fallecidos', 'Nuevos']\n",
    "\n",
    "format_5 = ['Unnamed: 0', 'Unnamed: 1', 'Unnamed: 2', 'Casos que han',\n",
    "       'Casos que han.1', 'Unnamed: 3', 'Unnamed: 4', 'Unnamed: 5']\n",
    "format_5_reformat = ['CCAA', 'TOTAL conf.', 'IA (14 d.)', 'Hospitalizados', 'UCI', 'Fallecidos', 'Curados', 'Nuevos']\n",
    "\n",
    "format_6 = ['CCAA', 'TOTAL conf.', 'IA (14 d.)', 'Hospitalizados', 'UCI', 'Fallecidos', 'Curados', 'Nuevos']\n",
    "\n",
    "ideal_format = format_6 # el formato ideal será el último (el más actual)\n",
    "\n",
    "df = pd.DataFrame()\n",
    "\n",
    "for i in rango_a_iterar: # iteramos sobre todos los PDFs\n",
    "    df_aux = None\n",
    "    var_date = var_date + timedelta(days=1)\n",
    "    \n",
    "    # añadimos un try-catch por si hubiera algun día intermedio donde no se han subido datos, que continúe con los siguientes\n",
    "    # días. De hecho, existen dos días que, por alguna razón, no se han subido PDFs \n",
    "    try:\n",
    "        # identificamos que la página donde se encuentra la tabla con los datos cambia a la primera \n",
    "        # cuando el nº del pdf es menor al 47\n",
    "        if i < 47:\n",
    "            df_aux = tabula.read_pdf(path + f\"covid_{str(i)}.pdf\", pages = \"2\", multiple_tables = True)\n",
    "        else:\n",
    "            df_aux = tabula.read_pdf(path + f\"covid_{str(i)}.pdf\", pages = \"1\", multiple_tables = True)\n",
    "    except:\n",
    "        continue\n",
    "    \n",
    "    # La tabla se puede encontrar o en la posición 0 o en la 1, dependiendo de como se haya construido la\n",
    "    # tabla incial en el PDF\n",
    "    if len(df_aux) == 1:\n",
    "        df_aux = df_aux[0]\n",
    "    else:\n",
    "        df_aux = df_aux[1]\n",
    "\n",
    "    cols_to_add = []\n",
    "\n",
    "    # Reformateamos la tabla, añadiendo alguna columna si fuera necesario y cambiamos el nombre de las que si están\n",
    "    # ya presentes pero se llaman diferente.\n",
    "    if list(df_aux.columns) == format_1 or list(df_aux.columns) == format_2 or list(df_aux.columns) == format_3:\n",
    "        df_aux.columns = format_1_reformat\n",
    "        cols_to_add = set(ideal_format) - set(format_1_reformat)\n",
    "        print(cols_to_add)\n",
    "    elif list(df_aux.columns) == format_4:\n",
    "        df_aux = df_aux[2:]\n",
    "        df_aux.columns = format_4_reformat\n",
    "        cols_to_add = set(ideal_format) - set(format_1_reformat)\n",
    "    elif list(df_aux.columns) == format_3:\n",
    "        df_aux = df_aux[2:]\n",
    "        cols_to_add = set(ideal_format) - set(format_1_reformat)\n",
    "    elif list(df_aux.columns) == format_5:\n",
    "        df_aux = df_aux[5:]\n",
    "        df_aux.columns = format_5_reformat\n",
    "        cols_to_add = set(ideal_format) - set(format_5_reformat)\n",
    "\n",
    "    # Ponemos a nulo aquellas columnas que no se encontraban originalmente en la tabla, pues no sabemos su valor\n",
    "    for c in cols_to_add:\n",
    "        df_aux[c] = None\n",
    "\n",
    "    df_aux['Fecha'] = var_date # añadimos la columna fecha\n",
    "    \n",
    "    df = pd.concat([df, df_aux.reset_index(drop=True)], axis=0)\n",
    "\n",
    "# Eliminamos los totales\n",
    "df = df[df['CCAA'] != 'ESPAÑA']\n",
    "df = df[df['CCAA'] != 'Total']"
   ]
  },
  {
   "cell_type": "markdown",
   "metadata": {},
   "source": [
    "# CSV"
   ]
  },
  {
   "cell_type": "code",
   "execution_count": 23,
   "metadata": {
    "ExecuteTime": {
     "end_time": "2020-03-30T10:26:48.499487Z",
     "start_time": "2020-03-30T10:26:48.478490Z"
    }
   },
   "outputs": [],
   "source": [
    "df.to_csv('data.csv', sep='\\t', index=False, encoding=\"latin1\")"
   ]
  }
 ],
 "metadata": {
  "kernelspec": {
   "display_name": "Python 3",
   "language": "python",
   "name": "python3"
  },
  "language_info": {
   "codemirror_mode": {
    "name": "ipython",
    "version": 3
   },
   "file_extension": ".py",
   "mimetype": "text/x-python",
   "name": "python",
   "nbconvert_exporter": "python",
   "pygments_lexer": "ipython3",
   "version": "3.7.3"
  },
  "toc": {
   "base_numbering": 1,
   "nav_menu": {},
   "number_sections": true,
   "sideBar": true,
   "skip_h1_title": false,
   "title_cell": "Table of Contents",
   "title_sidebar": "Contents",
   "toc_cell": false,
   "toc_position": {},
   "toc_section_display": true,
   "toc_window_display": false
  },
  "varInspector": {
   "cols": {
    "lenName": 16,
    "lenType": 16,
    "lenVar": 40
   },
   "kernels_config": {
    "python": {
     "delete_cmd_postfix": "",
     "delete_cmd_prefix": "del ",
     "library": "var_list.py",
     "varRefreshCmd": "print(var_dic_list())"
    },
    "r": {
     "delete_cmd_postfix": ") ",
     "delete_cmd_prefix": "rm(",
     "library": "var_list.r",
     "varRefreshCmd": "cat(var_dic_list()) "
    }
   },
   "types_to_exclude": [
    "module",
    "function",
    "builtin_function_or_method",
    "instance",
    "_Feature"
   ],
   "window_display": false
  }
 },
 "nbformat": 4,
 "nbformat_minor": 2
}
